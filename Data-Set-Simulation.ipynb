{
 "cells": [
  {
   "cell_type": "markdown",
   "metadata": {},
   "source": [
    "# Programming for Data Analytics - Project 2018\n",
    "\n",
    "\n",
    "The data set is required to be a simulation of a real-world phenomenon of the the student's choice. The phenomenon of choice is Cardiovascular Health, for which the model was synthesized. The numpy.random package wass utilized in this Project.\n",
    "\n",
    "\n",
    "Project requirement:\n",
    "• A measurable real-world phenomenon for which at least one-hundred data points across at least four different variables can be collected.\n",
    "• An investigation of the types of variables involved, their likely distributions, and any relationships between these varieables.\n",
    "• A simulation of a data set as closely matching their properties.\n",
    "• Thereafter, a description of the research and implemention of the simulation in a jupyter notebook.\n",
    "\n",
    "\n",
    "The challenge of cardiovascular disease - quick statistics\n",
    "Cardiovascular disease (CVD) causes more than half of all deaths across the European Region.\n",
    "CVD causes 46 times the number of deaths and 11 times the disease burden caused by AIDS, tuberculosis and malaria combined in Europe.\n",
    "80% of premature heart disease and stroke is preventable.\n",
    "\n",
    "Contributing factors\n",
    "A person’s genetic make-up is likely to be important in the probability of developing certain diseases, including cardiovascular disease.\n",
    "The foundations of adult health are laid in early life, even before birth, and a good start in life is fundamental to later development. Young mothers, poor mothers and those of low educational achievement are more likely to produce a low-birth-weight baby and less likely to breastfeed; in turn, low birth weight is associated with increased risk of developing coronary heart disease, stroke and high blood pressure. Good health-related habits, such as eating sensibly, exercising and not smoking, are learnt early in life and associated with parental and peer group examples.\n",
    "\n",
    "SOCIOECONOMIC GROUP (AGE)-\n",
    "\n",
    "Research has shown that males between 20 and 64 years of age in semi- and unskilled manual occupations run a three times higher risk of premature death from CVD compared to those in professional and managerial positions. Moreover, when improvements to health do occur, the benefits are unevenly distributed within society. These conditions and their causes contribute to differences in healthy life expectancy between and within European countries.\n",
    "\n",
    "\n",
    "DIET-\n",
    "\n",
    "A high intake of salt leads to hypertension. Most Europeans’ daily intake of sodium exceeds the WHO recommended limit, and in an important number of Member States the main source of sodium in the diet is processed foods. According to the WHO Global Health Report 2010, convincing evidence suggests that saturated fat and trans-fat increase the risk of coronary heart disease and that replacement with monosaturated and polyunsaturated fat reduces the risk. Globalization and urbanization are associated with the trend for populations to consume unhealthy diets high in energy, saturated fats, salt and sugar, and become less physically active. This trend started in western Europe and is now seen in parts of eastern Europe. This has serious implications for obesity levels, particularly among children.\n",
    "\n",
    "BMI-\n",
    "\n",
    "Overweight and obesity\n",
    "Obese adults are especially likely to develop cardiovascular diseases and other health problems. Obesity is associated with some of the major risk factors for cardiovascular diseases, such as hypertension and low concentrations of HDL cholesterol. Participation in 150 minutes of moderate physical activity each week (or equivalent) is estimated to reduce the risk of ischaemic heart disease by approximately 30%, as well as reducing the risk of stroke and hypertension.\n",
    "\n",
    "ALCOHOL-\n",
    "\n",
    "There is a direct relationship between higher levels of alcohol consumption and rising risk of cardiovascular diseases. The relationship is complex, however, and depends on both the amount and the pattern of alcohol consumption. Of the six WHO regions, adult per capita consumption of alcohol in 2008 was highest in the European Region (at 12.2 litres).\n",
    "\n",
    "Other Factors\n",
    "\n",
    "Tobacco\n",
    "Smoking is estimated to cause about 10% of cardiovascular disease worldwide. Of the six WHO regions, the highest overall prevalence for smoking in 2008 was estimated to be in the European Region, at nearly 29%.\n",
    "\n",
    "Diabetes\n",
    "Diabetes is a major risk factor and trigger for cardiovascular disease.\n",
    "\n",
    "Mental health\n",
    "Harmful stress is associated with cardiovascular diseases, and the prevalence of depression is a predictor of poor life expectancy among those who suffer from cardiovascular diseases.\n",
    "\n",
    "Prevention\n",
    "Focusing on a combination of risk factors for cardiovascular disease at once, implementing medical screening for individuals at risk and then providing effective and affordable treatment to those who require it can prevent disability and death and improve quality of life.\n",
    "\n",
    "It has been predicted that mortality from coronary heart disease (CHD) in the United Kingdom could be halved by small changes in cardiovascular risk factors: a 1% decrease in cholesterol in the population could lead to a 2–4% CHD mortality reduction; a 1% reduction in smoking prevalence could lead to 2000 fewer CHD deaths per year; and a 1% reduction in population diastolic blood pressure could prevent around 1500 CHD deaths each year.\n",
    "80% of the reduction in CHD mortality in Finland during the period of 1972–1992 has been explained by a decline in the major risk factors. Similarly, in Ireland, almost half (48.1%) of the reduction in CHD mortality rates during 1985–2000 among those aged 25–84 years has been attributed to favourable trends in population risk factors. In both countries, the greatest benefits appear to have come from reductions in mean cholesterol concentrations, smoking prevalence and blood pressure levels.\n",
    "\n",
    "Treatment\n",
    "Effective measures are available for people at high risk. For example, combination drug therapy (such as aspirin, beta blocker, diuretic and statin) can lead to a 75% reduction in myocardial infarction (heart attack) among those at high risk of having one. But many such interventions are not being implemented, and about half of coronary patients in Europe still require more intensive blood pressure management.\n",
    "\n",
    "\n",
    "REFERENCES:\n",
    "https://www.who.int/chp/ncd_global_status_report/en/\n",
    "\n",
    "https://www.who.int/chp/chronic_disease_report/en/\n",
    "\n",
    "http://www.euro.who.int/en/health-topics/noncommunicable-diseases/cardiovascular-diseases/publications/2009/gaining-health.-the-european-strategy-for-the-prevention-and-control-of-noncommunicable-diseases\n",
    "\n",
    "http://www.euro.who.int/en/health-topics/noncommunicable-diseases/cardiovascular-diseases/publications/2009/challenge-of-obesity-in-the-who-european-region-and-the-strategies-for-response-the\n",
    "\n",
    "http://www.euro.who.int/en/health-topics/noncommunicable-diseases/cardiovascular-diseases/publications/2009/how-does-health-care-system-performance-differ-for-stroke-among-17-industrialized-countries\n",
    "\n",
    "http://www.euro.who.int/en/health-topics/noncommunicable-diseases/cardiovascular-diseases/publications/2009/what-is-known-about-the-effectiveness-of-economic-instruments-to-reduce-consumption-of-foods-high-in-saturated-fats-and-other-energy-dense-foods-for-preventing-and-treating-obesity\n",
    "\n",
    "http://www.euro.who.int/en/health-topics/noncommunicable-diseases/cardiovascular-diseases/publications/2009/how-large-a-risk-to-health-is-air-pollution-in-the-european-region,-and-is-there-evidence-indicating-effective-measures-to-reduce-it\n",
    "\n",
    "https://www.who.int/en/news-room/fact-sheets/detail/cardiovascular-diseases-(cvds)\n",
    "\n",
    "https://www.who.int/quantifying_ehimpacts/publications/ebd18/en/\n",
    "\n",
    "https://www.who.int/cardiovascular_diseases/publications/Prevention_of_Cardiovascular_Disease/en/\n",
    "\n",
    "\n",
    "https://en.wikipedia.org/wiki/Recommended_maximum_intake_of_alcoholic_beverages"
   ]
  },
  {
   "cell_type": "code",
   "execution_count": 1,
   "metadata": {},
   "outputs": [],
   "source": [
    "import numpy as np\n",
    "import matplotlib.pyplot as plt\n",
    "import pandas as pd\n",
    "import seaborn as sns; sns.set()"
   ]
  },
  {
   "cell_type": "code",
   "execution_count": null,
   "metadata": {},
   "outputs": [],
   "source": []
  },
  {
   "cell_type": "markdown",
   "metadata": {},
   "source": [
    "AGE\n"
   ]
  },
  {
   "cell_type": "code",
   "execution_count": 11,
   "metadata": {},
   "outputs": [
    {
     "data": {
      "text/plain": [
       "array([40, 56, 59, 54, 44, 55, 41, 31, 58, 39, 26, 42, 29, 50, 54, 32, 39,\n",
       "       27, 50, 30, 41, 40, 49, 36, 40, 53, 32, 35, 26, 38, 32, 56, 32, 53,\n",
       "       30, 54, 51, 42, 44, 40, 43, 25, 48, 44, 25, 31, 31, 27, 27, 33, 44,\n",
       "       29, 46, 57, 34, 57, 43, 42, 38, 34, 41, 50, 58, 58, 41, 53, 43, 55,\n",
       "       28, 44, 32, 38, 31, 25, 48, 37, 25, 26, 42, 27, 39, 44, 49, 42, 55,\n",
       "       25, 32, 34, 34, 29, 43, 29, 42, 46, 56, 54, 48, 33, 32, 36, 40, 36,\n",
       "       56, 34, 30, 58, 49, 25, 30, 56, 40, 53, 24, 42, 57, 43, 55, 38, 55,\n",
       "       38, 58, 58, 31, 55, 56, 26, 42, 45, 28, 41, 50, 36, 38, 45, 44, 59,\n",
       "       57, 59, 52, 44, 59, 29, 37, 25, 28, 51, 28, 39, 41, 29, 29, 43, 57,\n",
       "       28, 48, 30, 55, 55, 35, 46, 30, 51, 35, 56, 46, 39, 25, 47, 47, 38,\n",
       "       32, 44, 46, 42, 56, 46, 46, 51, 25, 58, 30, 29, 25, 29, 36, 36, 43,\n",
       "       46, 49, 56, 45, 58, 28, 50, 36, 34, 33, 42, 26, 32, 57, 33, 59, 53,\n",
       "       45, 56, 57, 55, 32, 27, 54, 34, 38, 24, 35, 39, 37, 52, 29, 36, 54,\n",
       "       44, 32, 26, 57, 29, 29, 47, 58, 48, 33, 47, 27, 53, 41, 53, 38, 31,\n",
       "       36, 58, 57, 50, 51, 29, 57, 27, 35, 30, 29, 48, 51, 57, 34, 43, 31,\n",
       "       45, 53, 43, 42, 25, 56, 48, 59, 24, 31, 35, 50, 30, 53, 24, 39, 29,\n",
       "       42, 31, 33, 58, 43, 38, 41, 35, 50, 51, 37, 41, 55, 57, 57, 58, 26,\n",
       "       34, 59, 38, 27, 40, 47, 54, 42, 34, 24, 55, 54, 50, 39, 33, 50, 53,\n",
       "       59, 58, 37, 39, 48, 31, 29, 45, 33, 52, 31, 25, 33, 50, 53, 31, 59,\n",
       "       28, 54, 38, 30, 28, 37, 46, 28, 30, 25, 48, 34, 47, 31, 51, 31, 33,\n",
       "       46, 30, 29, 37, 56, 35, 43, 45, 44, 35, 28, 27, 45, 42, 31, 29, 51,\n",
       "       59, 55, 25, 24, 44, 35, 50, 36, 56, 52, 37, 24, 52, 56, 46, 58, 25,\n",
       "       30, 29, 52, 25, 51, 56, 50, 57, 41, 51, 48, 50, 57, 29, 40, 54, 27,\n",
       "       54, 54, 53, 29, 57, 49, 36, 52, 46, 49, 28, 30, 27, 48, 39, 46, 50,\n",
       "       27, 47, 31, 44, 56, 50, 43, 30, 28, 40, 44, 43, 43, 37, 28, 30, 56,\n",
       "       37, 41, 34, 24, 30, 35, 55, 41, 26, 40, 39, 41, 33, 57, 24, 48, 45,\n",
       "       48, 58, 26, 31, 26, 39, 49, 36, 27, 32, 59, 52, 41, 54, 55, 31, 27,\n",
       "       44, 55, 38, 43, 54, 41, 48, 36, 32, 35, 50, 25, 56, 32, 57, 24, 40,\n",
       "       54, 26, 43, 41, 56, 46, 49, 31, 26, 50, 44, 59, 41, 37, 55, 57, 30,\n",
       "       55, 40, 41, 58, 48, 26, 33])"
      ]
     },
     "execution_count": 11,
     "metadata": {},
     "output_type": "execute_result"
    }
   ],
   "source": [
    "np.random.randint(24, 60, 500)"
   ]
  },
  {
   "cell_type": "markdown",
   "metadata": {},
   "source": [
    "Average age of sample population"
   ]
  },
  {
   "cell_type": "code",
   "execution_count": 12,
   "metadata": {},
   "outputs": [
    {
     "data": {
      "text/plain": [
       "42.34"
      ]
     },
     "execution_count": 12,
     "metadata": {},
     "output_type": "execute_result"
    }
   ],
   "source": [
    "np.mean(age)"
   ]
  },
  {
   "cell_type": "markdown",
   "metadata": {},
   "source": [
    "Median Age"
   ]
  },
  {
   "cell_type": "code",
   "execution_count": 13,
   "metadata": {},
   "outputs": [
    {
     "data": {
      "text/plain": [
       "43.5"
      ]
     },
     "execution_count": 13,
     "metadata": {},
     "output_type": "execute_result"
    }
   ],
   "source": [
    "np.median(age)"
   ]
  },
  {
   "cell_type": "markdown",
   "metadata": {},
   "source": [
    "Ploting the age distribution"
   ]
  },
  {
   "cell_type": "code",
   "execution_count": 14,
   "metadata": {},
   "outputs": [
    {
     "data": {
      "image/png": "[encoded data removed]",
      "text/plain": [
       "<Figure size 864x576 with 1 Axes>"
      ]
     },
     "metadata": {},
     "output_type": "display_data"
    }
   ],
   "source": [
    "plt.figure(figsize=(12,8), facecolor='w', edgecolor='k', clear='True')\n",
    "plt.hist(age, bins=100)\n",
    "plt.xlabel('Age in years')\n",
    "plt.show()"
   ]
  },
  {
   "cell_type": "code",
   "execution_count": null,
   "metadata": {},
   "outputs": [],
   "source": []
  },
  {
   "cell_type": "code",
   "execution_count": 15,
   "metadata": {},
   "outputs": [
    {
     "data": {
      "image/png": "[encoded data removed]",
      "text/plain": [
       "<Figure size 432x288 with 1 Axes>"
      ]
     },
     "metadata": {
      "needs_background": "light"
     },
     "output_type": "display_data"
    }
   ],
   "source": [
    "plt.boxplot(age, showmeans=True)\n",
    "plt.show()"
   ]
  },
  {
   "cell_type": "markdown",
   "metadata": {},
   "source": [
    "The mean and median follow a similar pattern in the nirmal dstribution. Within the box, the red line represents that median, while the green traingle is the mean."
   ]
  },
  {
   "cell_type": "markdown",
   "metadata": {},
   "source": [
    "DIET (SALT INTAKE)\n",
    "\n",
    "Recommended daily intake is between 1,500mg - 2,300mg of salt. Bearing in mind  that more than 70 percent of the sodium Americans eat comes from packaged, prepared and restaurant foods — not the salt shaker"
   ]
  },
  {
   "cell_type": "code",
   "execution_count": 16,
   "metadata": {},
   "outputs": [],
   "source": [
    "min_rdi = 1,500\n",
    "max_rdi = 2,300"
   ]
  },
  {
   "cell_type": "code",
   "execution_count": 18,
   "metadata": {},
   "outputs": [],
   "source": [
    "rdi = np.random.uniform(1500,2300, 500)"
   ]
  },
  {
   "cell_type": "code",
   "execution_count": 19,
   "metadata": {},
   "outputs": [
    {
     "data": {
      "text/plain": [
       "array([1790.38102315, 2160.07965144, 2086.66545304, 2227.2891661 ,\n",
       "       1538.34928878, 1903.39165421, 1801.05339708, 1610.93798102,\n",
       "       1805.05294814, 1770.85359329, 2015.49229296, 1963.16153135,\n",
       "       1729.03204404, 2248.00465718, 2143.03904657, 1792.04139211,\n",
       "       1725.06232185, 1802.04957881, 1651.16677817, 2296.56296828,\n",
       "       1989.82779091, 1632.06615356, 1766.27286657, 1500.46829526,\n",
       "       2121.5682093 , 2019.856677  , 1838.95241399, 2053.06468323,\n",
       "       1644.38148947, 1608.58521679, 2230.4547281 , 1904.68822514,\n",
       "       2153.27032737, 2079.71352292, 1676.03540487, 1953.42888852,\n",
       "       1916.13540531, 1906.7428064 , 2260.66313395, 2210.49906015,\n",
       "       2109.83548108, 1552.23707592, 2072.01466475, 2032.67722592,\n",
       "       2164.89010632, 2036.83573545, 2273.28143324, 2005.01332355,\n",
       "       2209.85134828, 2122.69936279, 2129.09936556, 1878.87218576,\n",
       "       2176.57200293, 1755.16648764, 2057.83428072, 1746.17503307,\n",
       "       1801.49862491, 1972.69189281, 1691.04714378, 1505.99745442,\n",
       "       1552.00037851, 2296.24837197, 1944.27281383, 1779.32534739,\n",
       "       2123.4609483 , 1830.65964718, 1841.04457057, 1681.60297574,\n",
       "       1703.45083159, 1587.61402076, 1600.00697073, 1504.5371539 ,\n",
       "       2091.95732846, 1600.42574295, 1654.71716291, 1514.72608864,\n",
       "       2012.51699222, 1637.45880773, 2258.750903  , 1541.07665768,\n",
       "       1509.0237287 , 1758.53507992, 2179.85463641, 1612.70080689,\n",
       "       2079.02284456, 1509.08608831, 1604.23074348, 2231.72451947,\n",
       "       2074.216166  , 1892.90949062, 1860.66746156, 1721.6721477 ,\n",
       "       1693.15591512, 2197.6893697 , 1636.69106075, 1546.36398071,\n",
       "       1715.65296382, 1870.52253911, 1839.32926451, 1583.32244632,\n",
       "       1575.47515456, 2127.13883575, 1772.65224331, 1890.02247425,\n",
       "       1825.04290929, 1534.42278113, 1877.92787117, 1508.27615412,\n",
       "       1872.02320045, 1818.08335165, 1628.47315642, 2061.25903751,\n",
       "       1725.83100707, 1875.4682814 , 1519.72632105, 1959.00930082,\n",
       "       1922.89239275, 1711.12222104, 1574.27894596, 2291.91103048,\n",
       "       2275.48976799, 2283.21003454, 1627.68701503, 1692.85370431,\n",
       "       2073.61672189, 2212.7185163 , 2250.38671849, 1732.03395487,\n",
       "       1745.05665364, 1547.61829445, 1829.42039403, 1572.43885026,\n",
       "       1964.7240174 , 1532.64456136, 2152.47242219, 2280.05191843,\n",
       "       2297.3562116 , 1755.52500923, 2279.8764691 , 2271.41370166,\n",
       "       2273.93425975, 1993.29316028, 2223.63582486, 2045.05288911,\n",
       "       2235.90117858, 1935.55510721, 1753.32251984, 2028.87608969,\n",
       "       2042.97014528, 1964.96663375, 1583.03261868, 1863.19536267,\n",
       "       2296.63823654, 2043.87289042, 1989.64362175, 1734.45233559,\n",
       "       2246.19724086, 1812.83620916, 2044.82626762, 1641.00115919,\n",
       "       1699.29875517, 1992.67874763, 1520.25613062, 1667.6182849 ,\n",
       "       1562.98129204, 2259.21058089, 1772.33293438, 1880.78869246,\n",
       "       2056.10482913, 2194.5223652 , 1792.94484252, 1606.26066071,\n",
       "       2080.79048326, 1633.93191675, 1718.28420595, 1989.59171359,\n",
       "       2038.35259503, 2190.31125521, 1552.01240523, 1905.02541575,\n",
       "       1997.12581337, 1643.81947464, 1892.79518475, 1819.98736345,\n",
       "       1565.21221858, 1810.6502197 , 2290.09886849, 1719.86337662,\n",
       "       1981.77185773, 1949.04553046, 1817.47609538, 1904.5228004 ,\n",
       "       1536.31418027, 1747.51083236, 2207.27937546, 1711.53121586,\n",
       "       1575.90985375, 1984.74185762, 1839.7100673 , 2251.420288  ,\n",
       "       1965.99338125, 1995.21144584, 2091.15791373, 1924.04024878,\n",
       "       1851.24542085, 1943.68922002, 2273.80630916, 1686.93100107,\n",
       "       1511.2263864 , 1595.29788103, 1730.49885106, 1613.04706356,\n",
       "       1659.98135264, 1868.16709142, 1674.94220823, 1626.69545022,\n",
       "       2059.48696756, 1549.03040851, 1605.10905752, 1878.38018404,\n",
       "       2151.99371484, 2274.05245178, 2002.38713825, 2214.97809389,\n",
       "       2119.56019793, 1840.69505717, 1529.5673842 , 1583.49551773,\n",
       "       1660.83646945, 2228.22796263, 1714.89624312, 1657.53620455,\n",
       "       2189.44675897, 1715.33299958, 1976.16887046, 2107.26765908,\n",
       "       1627.26540187, 2121.42865658, 2063.46506491, 2139.69269219,\n",
       "       2280.67612529, 1766.02734211, 1760.54292662, 2200.67182232,\n",
       "       1663.6621417 , 2045.7797553 , 1575.65339173, 2215.76632187,\n",
       "       2005.81560016, 1637.12554164, 2048.14956158, 2132.34268949,\n",
       "       2021.94604266, 1953.23321106, 1516.45216738, 1529.45858388,\n",
       "       1805.10617685, 1592.79189251, 1693.06746779, 1656.63265981,\n",
       "       2139.92748054, 1625.31238515, 1798.52935281, 1530.33070368,\n",
       "       1676.94279034, 2055.4937284 , 1877.08715912, 1964.26772713,\n",
       "       1959.31182067, 1711.30555205, 2089.71097502, 1959.18755929,\n",
       "       2091.5476026 , 2249.80319646, 1798.53152663, 2111.33816376,\n",
       "       1821.27032356, 1943.72477765, 1555.30843493, 1611.2333827 ,\n",
       "       1916.91584752, 1667.69117907, 2243.7313107 , 1765.80721275,\n",
       "       1846.9890847 , 1509.73891443, 1648.56788456, 2249.59499657,\n",
       "       1968.56099532, 1650.37249382, 1937.57482509, 1613.92507644,\n",
       "       1547.53454412, 2278.97266061, 2298.86695413, 1754.11211509,\n",
       "       2079.04937217, 1612.3733852 , 1813.14691617, 1931.07597937,\n",
       "       2096.03927976, 1864.69988823, 2247.32352782, 1928.56413331,\n",
       "       1845.29002089, 2258.04451516, 2062.84811435, 1815.46062682,\n",
       "       1714.61002317, 2003.01207289, 2150.38511148, 2223.50870904,\n",
       "       1810.95489088, 2236.31804495, 1922.72146756, 2158.92991909,\n",
       "       1731.52320879, 2088.71876545, 1873.28376765, 2208.20635063,\n",
       "       2087.06070633, 2097.76079066, 1683.36873584, 1778.24818733,\n",
       "       1639.5192214 , 2298.99124175, 2107.34905835, 1890.25222389,\n",
       "       2131.1574333 , 1727.70309515, 1689.4537659 , 1631.21561028,\n",
       "       1927.96245499, 1895.73317311, 1613.55035172, 2049.51145055,\n",
       "       2123.27510863, 1623.93008149, 2187.347159  , 2239.72064284,\n",
       "       1829.73843258, 1916.58920697, 2209.13016019, 1648.9148154 ,\n",
       "       2139.29968978, 1944.1908642 , 1560.29462848, 1845.96100848,\n",
       "       2288.05728006, 2201.29896946, 1526.3377214 , 1838.0555188 ,\n",
       "       2293.75270182, 2072.8013237 , 2252.20328547, 1503.10947785,\n",
       "       1651.70517926, 1548.62707985, 1510.80213242, 1956.59265343,\n",
       "       2056.01283397, 1908.21845976, 1598.4268866 , 1705.96795267,\n",
       "       1501.33942802, 1733.58289348, 1708.18985964, 2170.25077059,\n",
       "       2133.38082986, 2186.24790139, 1967.63969743, 2105.46123971,\n",
       "       1550.44895873, 2217.94212841, 2272.52140596, 1858.62307481,\n",
       "       1684.40427467, 2093.07014846, 1601.27408261, 2035.29176711,\n",
       "       1938.34915488, 1990.6811012 , 1769.66491019, 1563.99483976,\n",
       "       1914.61824576, 2039.85058929, 2077.80290887, 2036.94786008,\n",
       "       1662.44872851, 1934.66394127, 2035.2055952 , 1675.78728167,\n",
       "       1905.32373412, 1515.6580301 , 1721.00873277, 1799.94480444,\n",
       "       2122.38853209, 1640.16396411, 2131.43380332, 1513.92165921,\n",
       "       1896.43781534, 2246.25115475, 1750.25766091, 1569.18535761,\n",
       "       2091.34073278, 1930.65271014, 2159.1072846 , 2013.60990596,\n",
       "       2015.49976045, 2081.63842733, 2090.00527774, 1726.96355963,\n",
       "       2060.98981341, 2157.92690436, 1600.1962203 , 1986.22798996,\n",
       "       2071.13298896, 1752.00473772, 1927.52333992, 2003.91557943,\n",
       "       2063.82849008, 1538.68985144, 1961.65490957, 1724.87185617,\n",
       "       1717.68890228, 1846.94387747, 1512.84377135, 1999.78137621,\n",
       "       1688.12079367, 1797.9180409 , 1672.73829067, 2142.03835358,\n",
       "       1722.22961118, 2241.14340905, 1506.73520183, 1711.24545159,\n",
       "       1797.38906948, 1556.40893768, 2203.09882302, 1678.77161111,\n",
       "       1815.96952317, 2179.18501305, 1901.86877445, 2228.12729595,\n",
       "       2050.39682016, 1538.038094  , 2263.39601931, 1799.65644347,\n",
       "       1698.29605291, 1939.68395593, 1579.67434963, 2052.37985914,\n",
       "       2095.05651279, 1675.98579525, 1881.69773356, 1564.0437969 ,\n",
       "       2296.94249459, 2245.92006309, 2174.99406667, 2038.01465405,\n",
       "       1579.86244561, 2067.69025414, 1548.87798286, 1738.77599654,\n",
       "       1776.41682989, 2078.1037345 , 1854.15091576, 2152.88331375,\n",
       "       1596.06706533, 1500.44607578, 2297.84463826, 1530.79677338,\n",
       "       2176.4398558 , 2256.34775338, 1839.24132827, 2024.39395022,\n",
       "       2259.66495994, 2155.94476219, 1940.21177782, 2014.79522877,\n",
       "       1946.50351049, 1883.84142427, 2212.3028636 , 2048.4747078 ,\n",
       "       2088.10326236, 2156.98087861, 1658.95483276, 2256.05679431,\n",
       "       2125.73775502, 1500.49695825, 1501.02055454, 2276.00708958,\n",
       "       2007.54336781, 1793.44324199, 1796.15393904, 2027.63411671,\n",
       "       2259.05622627, 2134.39063492, 1564.79691848, 1628.15348937])"
      ]
     },
     "execution_count": 19,
     "metadata": {},
     "output_type": "execute_result"
    }
   ],
   "source": [
    "rdi"
   ]
  },
  {
   "cell_type": "code",
   "execution_count": null,
   "metadata": {},
   "outputs": [],
   "source": []
  },
  {
   "cell_type": "code",
   "execution_count": 20,
   "metadata": {},
   "outputs": [
    {
     "data": {
      "text/plain": [
       "1894.499577684694"
      ]
     },
     "execution_count": 20,
     "metadata": {},
     "output_type": "execute_result"
    }
   ],
   "source": [
    "np.mean (rdi)"
   ]
  },
  {
   "cell_type": "code",
   "execution_count": null,
   "metadata": {},
   "outputs": [],
   "source": []
  },
  {
   "cell_type": "code",
   "execution_count": 21,
   "metadata": {},
   "outputs": [
    {
     "data": {
      "text/plain": [
       "1899.153294892778"
      ]
     },
     "execution_count": 21,
     "metadata": {},
     "output_type": "execute_result"
    }
   ],
   "source": [
    "\n",
    "np.median(rdi)"
   ]
  },
  {
   "cell_type": "code",
   "execution_count": null,
   "metadata": {},
   "outputs": [],
   "source": []
  },
  {
   "cell_type": "code",
   "execution_count": 22,
   "metadata": {},
   "outputs": [
    {
     "data": {
      "image/png": "[encoded data removed]",
      "text/plain": [
       "<Figure size 864x576 with 1 Axes>"
      ]
     },
     "metadata": {},
     "output_type": "display_data"
    }
   ],
   "source": [
    "plt.figure(figsize=(12,8), facecolor='w', edgecolor='k', clear='True')\n",
    "plt.hist(rdi)\n",
    "plt.show()"
   ]
  },
  {
   "cell_type": "markdown",
   "metadata": {},
   "source": [
    "The plot indicates that Salt Intake was highest between ages 55 and 60."
   ]
  },
  {
   "cell_type": "code",
   "execution_count": 32,
   "metadata": {},
   "outputs": [
    {
     "data": {
      "image/png": "[encoded data removed]",
      "text/plain": [
       "<Figure size 432x288 with 1 Axes>"
      ]
     },
     "metadata": {
      "needs_background": "light"
     },
     "output_type": "display_data"
    }
   ],
   "source": [
    "plt.boxplot(rdi, showmeans=True)\n",
    "plt.show()"
   ]
  },
  {
   "cell_type": "markdown",
   "metadata": {},
   "source": [
    "The RDI data has a wide spread/large midspread ranging from 1,700mg to 2,100mg"
   ]
  },
  {
   "cell_type": "code",
   "execution_count": null,
   "metadata": {},
   "outputs": [],
   "source": []
  },
  {
   "cell_type": "code",
   "execution_count": null,
   "metadata": {},
   "outputs": [],
   "source": [
    "\n"
   ]
  },
  {
   "cell_type": "markdown",
   "metadata": {},
   "source": [
    "BMI - (Body Mass Index)"
   ]
  },
  {
   "cell_type": "code",
   "execution_count": 24,
   "metadata": {},
   "outputs": [],
   "source": [
    "min_bmi_normal = 18.5\n",
    "max_bmi_normal = 24.99"
   ]
  },
  {
   "cell_type": "code",
   "execution_count": 25,
   "metadata": {},
   "outputs": [],
   "source": [
    "bmi_normal = np.random.uniform(18.5,24.99, 500)"
   ]
  },
  {
   "cell_type": "code",
   "execution_count": 26,
   "metadata": {},
   "outputs": [
    {
     "data": {
      "text/plain": [
       "array([24.353364  , 20.89072248, 24.42573067, 21.54509818, 24.87549723,\n",
       "       23.08587335, 19.20678017, 21.40130686, 22.44586571, 23.85122248,\n",
       "       18.7162101 , 19.46610583, 20.75089859, 24.90556663, 23.32507016,\n",
       "       23.94772265, 23.43096725, 20.82836223, 23.64809172, 21.358818  ,\n",
       "       19.00452171, 24.54373403, 24.61843986, 19.39232256, 22.48120657,\n",
       "       19.73351131, 20.56398081, 22.48676874, 19.98723124, 20.55823035,\n",
       "       18.57273127, 24.74819616, 20.11427745, 23.71250601, 22.80262998,\n",
       "       20.16147534, 20.72771658, 24.54577588, 18.85418514, 22.9601256 ,\n",
       "       22.74482157, 23.69316902, 20.84155133, 23.72012306, 18.52983414,\n",
       "       23.25589925, 24.88906984, 24.79789586, 24.80469604, 22.8722796 ,\n",
       "       23.13592975, 20.91007904, 23.1669563 , 21.17118051, 24.09678445,\n",
       "       22.76570269, 22.60793442, 22.81411819, 18.57218246, 19.66093034,\n",
       "       19.33966422, 19.49668233, 22.96700369, 21.57082627, 21.37748264,\n",
       "       21.20213623, 19.43214822, 19.42933758, 20.62132348, 21.6512669 ,\n",
       "       19.63313908, 19.77318306, 22.48265483, 18.98290128, 18.87105102,\n",
       "       19.40106399, 23.23918034, 20.62658655, 19.09999105, 19.65729524,\n",
       "       23.67969415, 20.36952246, 21.90769069, 21.30854625, 18.88629259,\n",
       "       20.49924579, 22.23038246, 19.89353288, 18.72741135, 22.64144416,\n",
       "       22.75934059, 18.7311186 , 18.896695  , 20.57391512, 23.8536472 ,\n",
       "       22.76511059, 18.91750327, 19.50050838, 22.15726725, 23.240917  ,\n",
       "       22.22363404, 23.11163999, 24.88651234, 24.10080319, 23.89188707,\n",
       "       18.6168161 , 22.1762195 , 20.2926258 , 19.94547032, 24.81913084,\n",
       "       22.34072401, 24.31862281, 23.6973649 , 24.55729859, 22.10173566,\n",
       "       24.1205944 , 22.15463568, 24.83307417, 22.36147817, 19.63194687,\n",
       "       21.39529057, 24.82123726, 22.20959308, 20.36813575, 24.15611207,\n",
       "       19.72378475, 24.63875816, 20.85445266, 19.50698156, 21.99843451,\n",
       "       24.37436322, 22.74829548, 19.53145814, 20.74056026, 24.38125352,\n",
       "       20.00674004, 22.96760954, 22.78774051, 19.38347192, 21.40069134,\n",
       "       19.15019001, 19.4075031 , 22.58963046, 18.84526036, 20.69259698,\n",
       "       24.81631743, 19.07476433, 23.78643726, 23.11237337, 22.22504466,\n",
       "       20.11217695, 23.92175292, 21.49160736, 20.23453661, 23.38839699,\n",
       "       18.54515574, 23.45895522, 22.47127491, 19.03627122, 19.17238299,\n",
       "       18.75052666, 19.75342453, 20.59274012, 20.16274817, 24.66050189,\n",
       "       18.67467677, 19.71992374, 21.17159668, 19.96118926, 23.23121127,\n",
       "       18.70553285, 21.65747196, 20.84206639, 22.49542852, 24.15623666,\n",
       "       20.30134986, 22.50502585, 19.57160775, 24.2266073 , 23.99744621,\n",
       "       24.51964664, 21.58497578, 23.73024787, 18.73498165, 19.53379867,\n",
       "       20.2203706 , 22.7110314 , 23.94727032, 24.77335186, 21.19949913,\n",
       "       20.86709075, 23.66811603, 24.88384298, 23.94147939, 23.41555822,\n",
       "       20.82081237, 18.69196866, 24.00053741, 23.74388406, 21.03813502,\n",
       "       23.26415994, 22.32518184, 23.46399591, 21.49722074, 21.59143668,\n",
       "       22.13644064, 22.81554356, 22.06366506, 20.09272283, 24.98452158,\n",
       "       19.15254031, 22.21625769, 18.63630821, 20.60172344, 24.23530852,\n",
       "       21.77972479, 22.42220458, 24.57069433, 19.64303823, 21.91963508,\n",
       "       22.74702159, 21.1769535 , 23.42849991, 19.5198247 , 19.99013997,\n",
       "       18.82438023, 24.53962125, 22.91586395, 22.50663801, 22.75447037,\n",
       "       20.70646481, 22.36005844, 23.79429209, 23.69871182, 24.46371244,\n",
       "       22.93080973, 20.94081767, 24.02996279, 20.90228015, 24.57605434,\n",
       "       19.54384823, 21.4733459 , 24.54967406, 23.13241832, 24.22587204,\n",
       "       23.02098737, 18.56581827, 21.34106974, 24.92569604, 20.92015341,\n",
       "       23.43299211, 20.36411469, 19.51119637, 24.12541221, 19.05976602,\n",
       "       19.00280603, 18.93315799, 19.18244707, 22.26264838, 21.85987535,\n",
       "       19.6523935 , 23.81971344, 22.37962196, 20.52433954, 20.2754499 ,\n",
       "       21.46490583, 19.47094689, 24.87531804, 23.86940553, 23.80595399,\n",
       "       21.05516784, 19.91592471, 23.31313797, 22.42748721, 23.63221205,\n",
       "       20.91546214, 20.51001909, 20.3953623 , 18.67852056, 18.70224898,\n",
       "       18.62301652, 20.58204442, 18.73027234, 20.23899992, 19.62505843,\n",
       "       24.65600404, 23.25932889, 19.30547772, 24.2969894 , 20.51887733,\n",
       "       23.2211459 , 20.2263419 , 24.86891828, 23.28713407, 23.02450472,\n",
       "       19.63899245, 19.7968232 , 18.50030764, 24.46870753, 20.8305866 ,\n",
       "       19.06783844, 24.15692623, 22.05085055, 23.10817835, 21.8196235 ,\n",
       "       19.26205846, 18.95381289, 21.25986868, 20.14138285, 20.990601  ,\n",
       "       21.90622488, 20.57059868, 23.21184529, 22.71782502, 18.93680668,\n",
       "       23.29065167, 20.53706059, 24.43542079, 21.79712384, 19.99704529,\n",
       "       21.62051318, 20.55614413, 20.85817834, 22.66013934, 19.61361487,\n",
       "       24.03052531, 23.57024861, 21.02089882, 21.50442298, 23.02953637,\n",
       "       18.9471023 , 19.33693351, 21.31731545, 19.82588891, 21.0037714 ,\n",
       "       24.55783707, 19.00143322, 19.23187096, 24.61571964, 22.21863051,\n",
       "       19.07863793, 22.28875895, 18.73885197, 23.40301823, 22.26256419,\n",
       "       21.07503928, 24.65518864, 23.44348934, 20.59111663, 21.40751962,\n",
       "       21.11847082, 19.76385841, 22.55094038, 20.77517965, 20.44026725,\n",
       "       23.02825306, 23.06792378, 20.69808565, 23.69848446, 23.12366315,\n",
       "       21.53572265, 20.10332406, 19.29942859, 22.06128107, 24.97249234,\n",
       "       23.00585481, 22.71116657, 20.61091522, 19.68939256, 19.36473683,\n",
       "       24.3989808 , 23.31327136, 23.13353067, 24.35876974, 21.85616602,\n",
       "       21.51932549, 20.5895155 , 21.85415894, 23.75857116, 23.23800451,\n",
       "       20.15153741, 20.20587172, 21.35087663, 21.4466075 , 19.74008799,\n",
       "       23.37157196, 24.41793094, 24.32904974, 23.2753665 , 18.62965967,\n",
       "       19.60009986, 18.52298741, 20.0013311 , 24.22375279, 19.34889411,\n",
       "       23.50392056, 24.81604529, 19.20650991, 22.78490391, 18.90450437,\n",
       "       22.14994852, 24.88502989, 21.69519517, 24.29026816, 20.55791359,\n",
       "       23.6337738 , 20.98771489, 24.83515347, 23.41640659, 21.83097633,\n",
       "       22.67097927, 23.70170851, 20.94965865, 18.53657128, 24.56087244,\n",
       "       18.82651357, 18.90736022, 23.08071448, 19.74299812, 24.82002914,\n",
       "       19.74842641, 18.83007437, 20.09523436, 23.66414295, 24.4142405 ,\n",
       "       21.1013313 , 19.15646194, 21.70860831, 22.24420022, 21.26665349,\n",
       "       24.08245618, 19.47374555, 24.53723069, 21.9887603 , 20.99078482,\n",
       "       23.83233587, 20.37527651, 23.64316329, 24.08209671, 20.80057546,\n",
       "       21.05323925, 22.0295277 , 21.56395082, 19.77610096, 24.2290748 ,\n",
       "       24.96796283, 22.67785758, 23.59407135, 19.51451873, 21.10626592,\n",
       "       20.81389073, 20.11940246, 23.49017192, 24.60250293, 19.89558225,\n",
       "       18.57283695, 20.56363827, 19.57824195, 19.35301635, 20.29842314,\n",
       "       19.65451019, 19.93132206, 22.64854344, 22.29890974, 20.94315917,\n",
       "       18.74081753, 19.78709786, 21.54961689, 19.06560726, 24.62173844,\n",
       "       20.30434841, 23.1060326 , 20.59240685, 23.28643913, 22.14310972,\n",
       "       18.70397667, 20.32967635, 24.51416872, 20.83258765, 23.10069588,\n",
       "       20.09454812, 21.33724026, 20.25857447, 22.26862286, 21.77245046,\n",
       "       23.10155305, 19.90721179, 24.77236447, 21.66962449, 24.85096777,\n",
       "       21.18636359, 18.86045077, 23.22598253, 23.59729584, 20.84166169,\n",
       "       24.51731282, 23.99838823, 24.42412964, 24.73764407, 22.75203763])"
      ]
     },
     "execution_count": 26,
     "metadata": {},
     "output_type": "execute_result"
    }
   ],
   "source": [
    "bmi_normal"
   ]
  },
  {
   "cell_type": "code",
   "execution_count": null,
   "metadata": {},
   "outputs": [],
   "source": []
  },
  {
   "cell_type": "code",
   "execution_count": 27,
   "metadata": {},
   "outputs": [
    {
     "data": {
      "text/plain": [
       "21.72355335022792"
      ]
     },
     "execution_count": 27,
     "metadata": {},
     "output_type": "execute_result"
    }
   ],
   "source": [
    "np.mean (bmi_normal)"
   ]
  },
  {
   "cell_type": "code",
   "execution_count": 28,
   "metadata": {},
   "outputs": [
    {
     "data": {
      "text/plain": [
       "21.635890037958493"
      ]
     },
     "execution_count": 28,
     "metadata": {},
     "output_type": "execute_result"
    }
   ],
   "source": [
    "np.median(bmi_normal)"
   ]
  },
  {
   "cell_type": "code",
   "execution_count": 29,
   "metadata": {},
   "outputs": [
    {
     "data": {
      "image/png": "[encoded data removed]",
      "text/plain": [
       "<Figure size 864x576 with 1 Axes>"
      ]
     },
     "metadata": {},
     "output_type": "display_data"
    }
   ],
   "source": [
    "plt.figure(figsize=(12,8), facecolor='w', edgecolor='k', clear='True')\n",
    "plt.hist(bmi_normal)\n",
    "plt.show()"
   ]
  },
  {
   "cell_type": "markdown",
   "metadata": {},
   "source": [
    "The plot indicates that bmi_normal figure are best within ages 40 and 45."
   ]
  },
  {
   "cell_type": "code",
   "execution_count": 30,
   "metadata": {},
   "outputs": [
    {
     "data": {
      "image/png": "[encoded data removed]",
      "text/plain": [
       "<Figure size 432x288 with 1 Axes>"
      ]
     },
     "metadata": {
      "needs_background": "light"
     },
     "output_type": "display_data"
    }
   ],
   "source": [
    "plt.boxplot(bmi_normal, showmeans=True)\n",
    "plt.show()"
   ]
  },
  {
   "cell_type": "markdown",
   "metadata": {},
   "source": [
    "The bmi_normal data has a rather narrow midspread ranging from 20 to 23.4"
   ]
  },
  {
   "cell_type": "code",
   "execution_count": null,
   "metadata": {},
   "outputs": [],
   "source": []
  },
  {
   "cell_type": "code",
   "execution_count": 34,
   "metadata": {},
   "outputs": [],
   "source": [
    "min_bmi_obese = 25.0\n",
    "max_bmi_obese = 40.0"
   ]
  },
  {
   "cell_type": "code",
   "execution_count": 36,
   "metadata": {},
   "outputs": [],
   "source": [
    "bmi_obese = np.random.uniform(25.0,40.00, 500)"
   ]
  },
  {
   "cell_type": "code",
   "execution_count": 37,
   "metadata": {},
   "outputs": [
    {
     "data": {
      "text/plain": [
       "array([32.0101287 , 39.81608586, 38.93563694, 25.17501418, 30.58382657,\n",
       "       25.07193656, 27.42959367, 39.67876996, 36.7183026 , 26.99860756,\n",
       "       33.92659774, 27.78132975, 35.29640373, 28.42448199, 33.90751722,\n",
       "       36.58713864, 35.81302851, 30.85137086, 26.95451004, 29.24181846,\n",
       "       39.95173828, 28.17443106, 39.83282417, 31.50998947, 32.34911683,\n",
       "       30.72323631, 29.77657715, 35.64135569, 35.38416228, 38.54233204,\n",
       "       36.13780513, 26.92885892, 37.7230899 , 25.98531316, 32.26952133,\n",
       "       26.68104039, 36.7106585 , 31.79401655, 38.21139462, 39.14611527,\n",
       "       26.67199667, 33.63555931, 34.66626979, 32.72508682, 37.34972086,\n",
       "       38.01399648, 35.22647957, 36.74827528, 26.80364834, 26.27725936,\n",
       "       28.66695204, 30.02760552, 34.81562597, 35.43799016, 28.63578323,\n",
       "       28.37100361, 31.6263513 , 26.12747361, 30.80275003, 28.09736239,\n",
       "       28.95674742, 33.95856973, 38.65146297, 39.10548051, 25.5493892 ,\n",
       "       32.79934697, 27.62991843, 32.73361791, 35.98256729, 39.94614349,\n",
       "       26.90613813, 36.35958607, 26.53590592, 31.40598352, 38.93537573,\n",
       "       28.87151954, 31.72349167, 32.44866472, 30.57747577, 25.05747421,\n",
       "       27.75087466, 29.58156211, 25.32737502, 39.69679858, 26.42255815,\n",
       "       39.63884512, 26.07811641, 39.46481514, 26.19588619, 36.84906415,\n",
       "       30.70211339, 37.04517298, 34.65948713, 36.02661072, 30.97432218,\n",
       "       26.08132984, 31.94058277, 29.0809928 , 28.21524215, 38.90895517,\n",
       "       29.64360884, 37.9937587 , 38.55231477, 26.24696898, 39.4556743 ,\n",
       "       37.02446566, 27.34571566, 25.06230444, 34.69827373, 38.54232432,\n",
       "       28.86511119, 29.67749326, 37.34782675, 29.3623192 , 35.88390837,\n",
       "       26.55442054, 34.18045975, 28.6021895 , 25.38666285, 34.36329303,\n",
       "       25.95219555, 37.32300446, 26.34715539, 33.07726402, 27.00919669,\n",
       "       36.88791167, 31.6730536 , 36.42356731, 34.37722454, 29.51146352,\n",
       "       26.87897358, 36.29956686, 34.47702127, 33.44644148, 31.231949  ,\n",
       "       35.78333862, 36.93710083, 31.16452766, 38.44764893, 25.50984794,\n",
       "       34.31910108, 34.39426283, 38.6134121 , 27.769179  , 25.70442456,\n",
       "       37.52252084, 31.09776936, 26.77938318, 36.19314058, 25.78912132,\n",
       "       32.72042196, 36.87100419, 31.18154527, 31.41264182, 34.37503959,\n",
       "       39.76858524, 25.54208046, 31.31169616, 28.73263134, 30.40648702,\n",
       "       26.75371859, 26.00458356, 27.02977402, 33.2859395 , 28.02276523,\n",
       "       25.31952037, 39.32363174, 25.11253477, 39.94244823, 37.42502723,\n",
       "       26.82388677, 25.61176   , 38.78840402, 34.10402558, 31.06671775,\n",
       "       29.86936125, 39.97990856, 30.37397959, 36.39260033, 33.81685568,\n",
       "       34.32388225, 35.07912528, 25.50075802, 27.6130955 , 26.71768802,\n",
       "       31.7978304 , 31.38301239, 30.8218399 , 33.59180133, 25.72379245,\n",
       "       26.89291639, 32.42355192, 25.3022025 , 33.85116097, 28.81505818,\n",
       "       33.19672039, 29.25728495, 28.92636488, 30.03629762, 29.70332845,\n",
       "       38.84476349, 33.42402446, 30.55419458, 34.26644376, 29.58312696,\n",
       "       31.42443196, 27.7975779 , 33.31288577, 30.45404929, 28.43453119,\n",
       "       26.58416745, 35.63211314, 31.1764015 , 31.63695328, 25.54381774,\n",
       "       28.66677393, 34.07548302, 25.68906387, 33.68600167, 37.4582229 ,\n",
       "       36.80419874, 25.76590477, 25.11284563, 31.58285127, 26.38002597,\n",
       "       30.2247218 , 27.40526633, 29.62049872, 29.37636404, 38.31221874,\n",
       "       25.42875976, 27.52038034, 29.96950548, 26.46157933, 36.8622346 ,\n",
       "       32.83478008, 28.31905656, 25.58508875, 25.46250951, 38.49105837,\n",
       "       26.45515872, 36.92155176, 36.60172721, 26.02201298, 27.12636301,\n",
       "       30.13946619, 31.8332852 , 38.28730655, 36.89779157, 28.61416584,\n",
       "       36.84171617, 31.56074801, 26.91859514, 34.0351418 , 32.91083546,\n",
       "       38.13653941, 37.71293635, 34.49071397, 27.77226774, 32.3541584 ,\n",
       "       39.62107332, 33.39868619, 28.89354842, 26.02992115, 27.28688906,\n",
       "       25.05814247, 34.58796396, 38.49899285, 28.90817435, 35.85685268,\n",
       "       27.63690675, 36.11671181, 25.51264942, 34.80318263, 29.77982841,\n",
       "       35.48928341, 39.41390746, 31.74566855, 30.70284289, 26.29287025,\n",
       "       35.65791646, 35.82150241, 36.81432712, 35.44441587, 31.39595028,\n",
       "       38.42482922, 39.4417489 , 26.26595906, 26.7528383 , 27.7649428 ,\n",
       "       33.5666117 , 33.16448736, 33.48264026, 28.66547718, 39.74031389,\n",
       "       37.37024251, 26.15090027, 38.37975666, 35.81743998, 25.176666  ,\n",
       "       31.6816431 , 32.38125495, 29.04300663, 39.78239648, 39.17199623,\n",
       "       36.4224224 , 38.64858677, 30.59651811, 37.40413703, 38.05865584,\n",
       "       27.47717305, 37.12977734, 29.41300287, 33.69086651, 27.62900821,\n",
       "       32.81489572, 35.42933752, 36.40809522, 27.28403268, 26.20708113,\n",
       "       32.85025136, 35.40632294, 32.49947219, 36.52448298, 31.79481495,\n",
       "       39.42150878, 31.58913564, 31.91475409, 31.638317  , 29.18525793,\n",
       "       28.98280329, 25.10312942, 35.82477736, 25.92065209, 36.46455102,\n",
       "       27.94167139, 36.91488548, 33.32464568, 34.70081708, 33.05232957,\n",
       "       37.41955317, 26.97172247, 28.61900614, 36.85854766, 34.55137801,\n",
       "       29.07929208, 30.57748659, 39.71143133, 26.06923954, 34.919181  ,\n",
       "       35.00430103, 28.88409542, 33.94774866, 33.40085806, 36.22805358,\n",
       "       28.87001648, 34.54002862, 37.1065409 , 38.12954596, 29.51902404,\n",
       "       36.50115898, 27.04457846, 34.76456579, 38.5527265 , 26.38894626,\n",
       "       37.00350284, 36.72006523, 38.42179868, 31.28425669, 36.07793767,\n",
       "       37.60792725, 25.70160831, 37.95698917, 39.68958566, 29.49273724,\n",
       "       36.42843204, 26.06413123, 26.00147023, 39.38997951, 28.7438372 ,\n",
       "       36.0208661 , 37.00792032, 38.82590009, 28.42823091, 34.03675532,\n",
       "       37.76585459, 38.41627573, 35.65933741, 27.13560384, 30.97259874,\n",
       "       36.37276701, 29.09101305, 34.88058421, 39.17377829, 25.9193883 ,\n",
       "       35.19029363, 32.57777227, 29.46438837, 34.08971603, 35.29056371,\n",
       "       26.25219341, 31.07971736, 33.44663405, 30.37805602, 27.4514068 ,\n",
       "       29.69503649, 35.63300754, 34.25957588, 31.88751327, 27.02488022,\n",
       "       35.32829279, 33.54104974, 36.80293504, 27.08667749, 33.98645326,\n",
       "       26.42371594, 38.83075501, 31.11958215, 25.95983518, 38.4066398 ,\n",
       "       27.26365942, 30.38662784, 34.60697719, 29.35280292, 33.71623165,\n",
       "       27.54065455, 25.08403776, 31.86432177, 39.29730028, 27.12658681,\n",
       "       29.56117709, 27.72841421, 37.49823771, 39.5756685 , 34.3919959 ,\n",
       "       25.85527657, 35.00259657, 25.23686069, 31.78315689, 33.52539701,\n",
       "       37.70460379, 39.66240558, 32.51991752, 33.28053576, 36.83327998,\n",
       "       26.9136948 , 27.99622857, 37.76205798, 27.51639064, 37.84564966,\n",
       "       37.99436783, 36.63335271, 30.13016343, 38.34726842, 38.63351753,\n",
       "       31.30916381, 34.8262504 , 33.96666183, 30.95527868, 39.2544838 ,\n",
       "       25.70490623, 26.18352881, 27.90078757, 34.66255951, 32.25633239,\n",
       "       39.53255989, 34.76245536, 31.27145243, 37.73708078, 31.8244722 ,\n",
       "       34.77869205, 26.49418516, 37.2037346 , 39.1074519 , 30.62168605,\n",
       "       32.06459727, 38.5882657 , 36.83675685, 36.59608865, 37.25493832,\n",
       "       36.37572067, 25.09053445, 27.37231879, 34.19759304, 35.14168433,\n",
       "       39.6000897 , 37.7450523 , 34.34839832, 26.27162952, 39.83946238,\n",
       "       31.35935395, 36.17120874, 32.81940223, 37.81565934, 30.55234475,\n",
       "       33.71868353, 26.05711767, 38.11723329, 31.53503162, 28.10693892])"
      ]
     },
     "execution_count": 37,
     "metadata": {},
     "output_type": "execute_result"
    }
   ],
   "source": [
    "bmi_obese"
   ]
  },
  {
   "cell_type": "code",
   "execution_count": null,
   "metadata": {},
   "outputs": [],
   "source": []
  },
  {
   "cell_type": "code",
   "execution_count": 83,
   "metadata": {},
   "outputs": [
    {
     "data": {
      "text/plain": [
       "32.3751051257094"
      ]
     },
     "execution_count": 83,
     "metadata": {},
     "output_type": "execute_result"
    }
   ],
   "source": [
    "np.mean (bmi_obese)"
   ]
  },
  {
   "cell_type": "code",
   "execution_count": 84,
   "metadata": {},
   "outputs": [
    {
     "data": {
      "text/plain": [
       "32.40240343365866"
      ]
     },
     "execution_count": 84,
     "metadata": {},
     "output_type": "execute_result"
    }
   ],
   "source": [
    "np.median(bmi_obese)"
   ]
  },
  {
   "cell_type": "code",
   "execution_count": 40,
   "metadata": {},
   "outputs": [
    {
     "data": {
      "image/png": "[encoded data removed]",
      "text/plain": [
       "<Figure size 864x576 with 1 Axes>"
      ]
     },
     "metadata": {},
     "output_type": "display_data"
    }
   ],
   "source": [
    "plt.figure(figsize=(12,8), facecolor='w', edgecolor='k', clear='True')\n",
    "plt.hist(bmi_obese)\n",
    "plt.show()"
   ]
  },
  {
   "cell_type": "markdown",
   "metadata": {},
   "source": [
    "The plot indicates that bmi_normal figure are best within ages 40 and 42."
   ]
  },
  {
   "cell_type": "code",
   "execution_count": 41,
   "metadata": {},
   "outputs": [
    {
     "data": {
      "image/png": "[encoded data removed]",
      "text/plain": [
       "<Figure size 432x288 with 1 Axes>"
      ]
     },
     "metadata": {
      "needs_background": "light"
     },
     "output_type": "display_data"
    }
   ],
   "source": [
    "plt.boxplot(bmi_obese, showmeans=True)\n",
    "plt.show()"
   ]
  },
  {
   "cell_type": "markdown",
   "metadata": {},
   "source": [
    "The bmi_normal data has a moderately wide midspread ranging from 28 to 36.5. Normal distribution\n"
   ]
  },
  {
   "cell_type": "markdown",
   "metadata": {},
   "source": [
    "Creating a merge array containing the two BMI data"
   ]
  },
  {
   "cell_type": "code",
   "execution_count": 85,
   "metadata": {},
   "outputs": [
    {
     "data": {
      "text/plain": [
       "array([24.353364  , 20.89072248, 24.42573067, 21.54509818, 24.87549723,\n",
       "       23.08587335, 19.20678017, 21.40130686, 22.44586571, 23.85122248,\n",
       "       18.7162101 , 19.46610583, 20.75089859, 24.90556663, 23.32507016,\n",
       "       23.94772265, 23.43096725, 20.82836223, 23.64809172, 21.358818  ,\n",
       "       19.00452171, 24.54373403, 24.61843986, 19.39232256, 22.48120657,\n",
       "       19.73351131, 20.56398081, 22.48676874, 19.98723124, 20.55823035,\n",
       "       18.57273127, 24.74819616, 20.11427745, 23.71250601, 22.80262998,\n",
       "       20.16147534, 20.72771658, 24.54577588, 18.85418514, 22.9601256 ,\n",
       "       22.74482157, 23.69316902, 20.84155133, 23.72012306, 18.52983414,\n",
       "       23.25589925, 24.88906984, 24.79789586, 24.80469604, 22.8722796 ,\n",
       "       23.13592975, 20.91007904, 23.1669563 , 21.17118051, 24.09678445,\n",
       "       22.76570269, 22.60793442, 22.81411819, 18.57218246, 19.66093034,\n",
       "       19.33966422, 19.49668233, 22.96700369, 21.57082627, 21.37748264,\n",
       "       21.20213623, 19.43214822, 19.42933758, 20.62132348, 21.6512669 ,\n",
       "       19.63313908, 19.77318306, 22.48265483, 18.98290128, 18.87105102,\n",
       "       19.40106399, 23.23918034, 20.62658655, 19.09999105, 19.65729524,\n",
       "       23.67969415, 20.36952246, 21.90769069, 21.30854625, 18.88629259,\n",
       "       20.49924579, 22.23038246, 19.89353288, 18.72741135, 22.64144416,\n",
       "       22.75934059, 18.7311186 , 18.896695  , 20.57391512, 23.8536472 ,\n",
       "       22.76511059, 18.91750327, 19.50050838, 22.15726725, 23.240917  ,\n",
       "       22.22363404, 23.11163999, 24.88651234, 24.10080319, 23.89188707,\n",
       "       18.6168161 , 22.1762195 , 20.2926258 , 19.94547032, 24.81913084,\n",
       "       22.34072401, 24.31862281, 23.6973649 , 24.55729859, 22.10173566,\n",
       "       24.1205944 , 22.15463568, 24.83307417, 22.36147817, 19.63194687,\n",
       "       21.39529057, 24.82123726, 22.20959308, 20.36813575, 24.15611207,\n",
       "       19.72378475, 24.63875816, 20.85445266, 19.50698156, 21.99843451,\n",
       "       24.37436322, 22.74829548, 19.53145814, 20.74056026, 24.38125352,\n",
       "       20.00674004, 22.96760954, 22.78774051, 19.38347192, 21.40069134,\n",
       "       19.15019001, 19.4075031 , 22.58963046, 18.84526036, 20.69259698,\n",
       "       24.81631743, 19.07476433, 23.78643726, 23.11237337, 22.22504466,\n",
       "       20.11217695, 23.92175292, 21.49160736, 20.23453661, 23.38839699,\n",
       "       18.54515574, 23.45895522, 22.47127491, 19.03627122, 19.17238299,\n",
       "       18.75052666, 19.75342453, 20.59274012, 20.16274817, 24.66050189,\n",
       "       18.67467677, 19.71992374, 21.17159668, 19.96118926, 23.23121127,\n",
       "       18.70553285, 21.65747196, 20.84206639, 22.49542852, 24.15623666,\n",
       "       20.30134986, 22.50502585, 19.57160775, 24.2266073 , 23.99744621,\n",
       "       24.51964664, 21.58497578, 23.73024787, 18.73498165, 19.53379867,\n",
       "       20.2203706 , 22.7110314 , 23.94727032, 24.77335186, 21.19949913,\n",
       "       20.86709075, 23.66811603, 24.88384298, 23.94147939, 23.41555822,\n",
       "       20.82081237, 18.69196866, 24.00053741, 23.74388406, 21.03813502,\n",
       "       23.26415994, 22.32518184, 23.46399591, 21.49722074, 21.59143668,\n",
       "       22.13644064, 22.81554356, 22.06366506, 20.09272283, 24.98452158,\n",
       "       19.15254031, 22.21625769, 18.63630821, 20.60172344, 24.23530852,\n",
       "       21.77972479, 22.42220458, 24.57069433, 19.64303823, 21.91963508,\n",
       "       22.74702159, 21.1769535 , 23.42849991, 19.5198247 , 19.99013997,\n",
       "       18.82438023, 24.53962125, 22.91586395, 22.50663801, 22.75447037,\n",
       "       20.70646481, 22.36005844, 23.79429209, 23.69871182, 24.46371244,\n",
       "       22.93080973, 20.94081767, 24.02996279, 20.90228015, 24.57605434,\n",
       "       19.54384823, 21.4733459 , 24.54967406, 23.13241832, 24.22587204,\n",
       "       23.02098737, 18.56581827, 21.34106974, 24.92569604, 20.92015341,\n",
       "       23.43299211, 20.36411469, 19.51119637, 24.12541221, 19.05976602,\n",
       "       19.00280603, 18.93315799, 19.18244707, 22.26264838, 21.85987535,\n",
       "       19.6523935 , 23.81971344, 22.37962196, 20.52433954, 20.2754499 ,\n",
       "       21.46490583, 19.47094689, 24.87531804, 23.86940553, 23.80595399,\n",
       "       21.05516784, 19.91592471, 23.31313797, 22.42748721, 23.63221205,\n",
       "       20.91546214, 20.51001909, 20.3953623 , 18.67852056, 18.70224898,\n",
       "       18.62301652, 20.58204442, 18.73027234, 20.23899992, 19.62505843,\n",
       "       24.65600404, 23.25932889, 19.30547772, 24.2969894 , 20.51887733,\n",
       "       23.2211459 , 20.2263419 , 24.86891828, 23.28713407, 23.02450472,\n",
       "       19.63899245, 19.7968232 , 18.50030764, 24.46870753, 20.8305866 ,\n",
       "       19.06783844, 24.15692623, 22.05085055, 23.10817835, 21.8196235 ,\n",
       "       19.26205846, 18.95381289, 21.25986868, 20.14138285, 20.990601  ,\n",
       "       21.90622488, 20.57059868, 23.21184529, 22.71782502, 18.93680668,\n",
       "       23.29065167, 20.53706059, 24.43542079, 21.79712384, 19.99704529,\n",
       "       21.62051318, 20.55614413, 20.85817834, 22.66013934, 19.61361487,\n",
       "       24.03052531, 23.57024861, 21.02089882, 21.50442298, 23.02953637,\n",
       "       18.9471023 , 19.33693351, 21.31731545, 19.82588891, 21.0037714 ,\n",
       "       24.55783707, 19.00143322, 19.23187096, 24.61571964, 22.21863051,\n",
       "       19.07863793, 22.28875895, 18.73885197, 23.40301823, 22.26256419,\n",
       "       21.07503928, 24.65518864, 23.44348934, 20.59111663, 21.40751962,\n",
       "       21.11847082, 19.76385841, 22.55094038, 20.77517965, 20.44026725,\n",
       "       23.02825306, 23.06792378, 20.69808565, 23.69848446, 23.12366315,\n",
       "       21.53572265, 20.10332406, 19.29942859, 22.06128107, 24.97249234,\n",
       "       23.00585481, 22.71116657, 20.61091522, 19.68939256, 19.36473683,\n",
       "       24.3989808 , 23.31327136, 23.13353067, 24.35876974, 21.85616602,\n",
       "       21.51932549, 20.5895155 , 21.85415894, 23.75857116, 23.23800451,\n",
       "       20.15153741, 20.20587172, 21.35087663, 21.4466075 , 19.74008799,\n",
       "       23.37157196, 24.41793094, 24.32904974, 23.2753665 , 18.62965967,\n",
       "       19.60009986, 18.52298741, 20.0013311 , 24.22375279, 19.34889411,\n",
       "       23.50392056, 24.81604529, 19.20650991, 22.78490391, 18.90450437,\n",
       "       22.14994852, 24.88502989, 21.69519517, 24.29026816, 20.55791359,\n",
       "       23.6337738 , 20.98771489, 24.83515347, 23.41640659, 21.83097633,\n",
       "       22.67097927, 23.70170851, 20.94965865, 18.53657128, 24.56087244,\n",
       "       18.82651357, 18.90736022, 23.08071448, 19.74299812, 24.82002914,\n",
       "       19.74842641, 18.83007437, 20.09523436, 23.66414295, 24.4142405 ,\n",
       "       21.1013313 , 19.15646194, 21.70860831, 22.24420022, 21.26665349,\n",
       "       24.08245618, 19.47374555, 24.53723069, 21.9887603 , 20.99078482,\n",
       "       23.83233587, 20.37527651, 23.64316329, 24.08209671, 20.80057546,\n",
       "       21.05323925, 22.0295277 , 21.56395082, 19.77610096, 24.2290748 ,\n",
       "       24.96796283, 22.67785758, 23.59407135, 19.51451873, 21.10626592,\n",
       "       20.81389073, 20.11940246, 23.49017192, 24.60250293, 19.89558225,\n",
       "       18.57283695, 20.56363827, 19.57824195, 19.35301635, 20.29842314,\n",
       "       19.65451019, 19.93132206, 22.64854344, 22.29890974, 20.94315917,\n",
       "       18.74081753, 19.78709786, 21.54961689, 19.06560726, 24.62173844,\n",
       "       20.30434841, 23.1060326 , 20.59240685, 23.28643913, 22.14310972,\n",
       "       18.70397667, 20.32967635, 24.51416872, 20.83258765, 23.10069588,\n",
       "       20.09454812, 21.33724026, 20.25857447, 22.26862286, 21.77245046,\n",
       "       23.10155305, 19.90721179, 24.77236447, 21.66962449, 24.85096777,\n",
       "       21.18636359, 18.86045077, 23.22598253, 23.59729584, 20.84166169,\n",
       "       24.51731282, 23.99838823, 24.42412964, 24.73764407, 22.75203763,\n",
       "       32.0101287 , 39.81608586, 38.93563694, 25.17501418, 30.58382657,\n",
       "       25.07193656, 27.42959367, 39.67876996, 36.7183026 , 26.99860756,\n",
       "       33.92659774, 27.78132975, 35.29640373, 28.42448199, 33.90751722,\n",
       "       36.58713864, 35.81302851, 30.85137086, 26.95451004, 29.24181846,\n",
       "       39.95173828, 28.17443106, 39.83282417, 31.50998947, 32.34911683,\n",
       "       30.72323631, 29.77657715, 35.64135569, 35.38416228, 38.54233204,\n",
       "       36.13780513, 26.92885892, 37.7230899 , 25.98531316, 32.26952133,\n",
       "       26.68104039, 36.7106585 , 31.79401655, 38.21139462, 39.14611527,\n",
       "       26.67199667, 33.63555931, 34.66626979, 32.72508682, 37.34972086,\n",
       "       38.01399648, 35.22647957, 36.74827528, 26.80364834, 26.27725936,\n",
       "       28.66695204, 30.02760552, 34.81562597, 35.43799016, 28.63578323,\n",
       "       28.37100361, 31.6263513 , 26.12747361, 30.80275003, 28.09736239,\n",
       "       28.95674742, 33.95856973, 38.65146297, 39.10548051, 25.5493892 ,\n",
       "       32.79934697, 27.62991843, 32.73361791, 35.98256729, 39.94614349,\n",
       "       26.90613813, 36.35958607, 26.53590592, 31.40598352, 38.93537573,\n",
       "       28.87151954, 31.72349167, 32.44866472, 30.57747577, 25.05747421,\n",
       "       27.75087466, 29.58156211, 25.32737502, 39.69679858, 26.42255815,\n",
       "       39.63884512, 26.07811641, 39.46481514, 26.19588619, 36.84906415,\n",
       "       30.70211339, 37.04517298, 34.65948713, 36.02661072, 30.97432218,\n",
       "       26.08132984, 31.94058277, 29.0809928 , 28.21524215, 38.90895517,\n",
       "       29.64360884, 37.9937587 , 38.55231477, 26.24696898, 39.4556743 ,\n",
       "       37.02446566, 27.34571566, 25.06230444, 34.69827373, 38.54232432,\n",
       "       28.86511119, 29.67749326, 37.34782675, 29.3623192 , 35.88390837,\n",
       "       26.55442054, 34.18045975, 28.6021895 , 25.38666285, 34.36329303,\n",
       "       25.95219555, 37.32300446, 26.34715539, 33.07726402, 27.00919669,\n",
       "       36.88791167, 31.6730536 , 36.42356731, 34.37722454, 29.51146352,\n",
       "       26.87897358, 36.29956686, 34.47702127, 33.44644148, 31.231949  ,\n",
       "       35.78333862, 36.93710083, 31.16452766, 38.44764893, 25.50984794,\n",
       "       34.31910108, 34.39426283, 38.6134121 , 27.769179  , 25.70442456,\n",
       "       37.52252084, 31.09776936, 26.77938318, 36.19314058, 25.78912132,\n",
       "       32.72042196, 36.87100419, 31.18154527, 31.41264182, 34.37503959,\n",
       "       39.76858524, 25.54208046, 31.31169616, 28.73263134, 30.40648702,\n",
       "       26.75371859, 26.00458356, 27.02977402, 33.2859395 , 28.02276523,\n",
       "       25.31952037, 39.32363174, 25.11253477, 39.94244823, 37.42502723,\n",
       "       26.82388677, 25.61176   , 38.78840402, 34.10402558, 31.06671775,\n",
       "       29.86936125, 39.97990856, 30.37397959, 36.39260033, 33.81685568,\n",
       "       34.32388225, 35.07912528, 25.50075802, 27.6130955 , 26.71768802,\n",
       "       31.7978304 , 31.38301239, 30.8218399 , 33.59180133, 25.72379245,\n",
       "       26.89291639, 32.42355192, 25.3022025 , 33.85116097, 28.81505818,\n",
       "       33.19672039, 29.25728495, 28.92636488, 30.03629762, 29.70332845,\n",
       "       38.84476349, 33.42402446, 30.55419458, 34.26644376, 29.58312696,\n",
       "       31.42443196, 27.7975779 , 33.31288577, 30.45404929, 28.43453119,\n",
       "       26.58416745, 35.63211314, 31.1764015 , 31.63695328, 25.54381774,\n",
       "       28.66677393, 34.07548302, 25.68906387, 33.68600167, 37.4582229 ,\n",
       "       36.80419874, 25.76590477, 25.11284563, 31.58285127, 26.38002597,\n",
       "       30.2247218 , 27.40526633, 29.62049872, 29.37636404, 38.31221874,\n",
       "       25.42875976, 27.52038034, 29.96950548, 26.46157933, 36.8622346 ,\n",
       "       32.83478008, 28.31905656, 25.58508875, 25.46250951, 38.49105837,\n",
       "       26.45515872, 36.92155176, 36.60172721, 26.02201298, 27.12636301,\n",
       "       30.13946619, 31.8332852 , 38.28730655, 36.89779157, 28.61416584,\n",
       "       36.84171617, 31.56074801, 26.91859514, 34.0351418 , 32.91083546,\n",
       "       38.13653941, 37.71293635, 34.49071397, 27.77226774, 32.3541584 ,\n",
       "       39.62107332, 33.39868619, 28.89354842, 26.02992115, 27.28688906,\n",
       "       25.05814247, 34.58796396, 38.49899285, 28.90817435, 35.85685268,\n",
       "       27.63690675, 36.11671181, 25.51264942, 34.80318263, 29.77982841,\n",
       "       35.48928341, 39.41390746, 31.74566855, 30.70284289, 26.29287025,\n",
       "       35.65791646, 35.82150241, 36.81432712, 35.44441587, 31.39595028,\n",
       "       38.42482922, 39.4417489 , 26.26595906, 26.7528383 , 27.7649428 ,\n",
       "       33.5666117 , 33.16448736, 33.48264026, 28.66547718, 39.74031389,\n",
       "       37.37024251, 26.15090027, 38.37975666, 35.81743998, 25.176666  ,\n",
       "       31.6816431 , 32.38125495, 29.04300663, 39.78239648, 39.17199623,\n",
       "       36.4224224 , 38.64858677, 30.59651811, 37.40413703, 38.05865584,\n",
       "       27.47717305, 37.12977734, 29.41300287, 33.69086651, 27.62900821,\n",
       "       32.81489572, 35.42933752, 36.40809522, 27.28403268, 26.20708113,\n",
       "       32.85025136, 35.40632294, 32.49947219, 36.52448298, 31.79481495,\n",
       "       39.42150878, 31.58913564, 31.91475409, 31.638317  , 29.18525793,\n",
       "       28.98280329, 25.10312942, 35.82477736, 25.92065209, 36.46455102,\n",
       "       27.94167139, 36.91488548, 33.32464568, 34.70081708, 33.05232957,\n",
       "       37.41955317, 26.97172247, 28.61900614, 36.85854766, 34.55137801,\n",
       "       29.07929208, 30.57748659, 39.71143133, 26.06923954, 34.919181  ,\n",
       "       35.00430103, 28.88409542, 33.94774866, 33.40085806, 36.22805358,\n",
       "       28.87001648, 34.54002862, 37.1065409 , 38.12954596, 29.51902404,\n",
       "       36.50115898, 27.04457846, 34.76456579, 38.5527265 , 26.38894626,\n",
       "       37.00350284, 36.72006523, 38.42179868, 31.28425669, 36.07793767,\n",
       "       37.60792725, 25.70160831, 37.95698917, 39.68958566, 29.49273724,\n",
       "       36.42843204, 26.06413123, 26.00147023, 39.38997951, 28.7438372 ,\n",
       "       36.0208661 , 37.00792032, 38.82590009, 28.42823091, 34.03675532,\n",
       "       37.76585459, 38.41627573, 35.65933741, 27.13560384, 30.97259874,\n",
       "       36.37276701, 29.09101305, 34.88058421, 39.17377829, 25.9193883 ,\n",
       "       35.19029363, 32.57777227, 29.46438837, 34.08971603, 35.29056371,\n",
       "       26.25219341, 31.07971736, 33.44663405, 30.37805602, 27.4514068 ,\n",
       "       29.69503649, 35.63300754, 34.25957588, 31.88751327, 27.02488022,\n",
       "       35.32829279, 33.54104974, 36.80293504, 27.08667749, 33.98645326,\n",
       "       26.42371594, 38.83075501, 31.11958215, 25.95983518, 38.4066398 ,\n",
       "       27.26365942, 30.38662784, 34.60697719, 29.35280292, 33.71623165,\n",
       "       27.54065455, 25.08403776, 31.86432177, 39.29730028, 27.12658681,\n",
       "       29.56117709, 27.72841421, 37.49823771, 39.5756685 , 34.3919959 ,\n",
       "       25.85527657, 35.00259657, 25.23686069, 31.78315689, 33.52539701,\n",
       "       37.70460379, 39.66240558, 32.51991752, 33.28053576, 36.83327998,\n",
       "       26.9136948 , 27.99622857, 37.76205798, 27.51639064, 37.84564966,\n",
       "       37.99436783, 36.63335271, 30.13016343, 38.34726842, 38.63351753,\n",
       "       31.30916381, 34.8262504 , 33.96666183, 30.95527868, 39.2544838 ,\n",
       "       25.70490623, 26.18352881, 27.90078757, 34.66255951, 32.25633239,\n",
       "       39.53255989, 34.76245536, 31.27145243, 37.73708078, 31.8244722 ,\n",
       "       34.77869205, 26.49418516, 37.2037346 , 39.1074519 , 30.62168605,\n",
       "       32.06459727, 38.5882657 , 36.83675685, 36.59608865, 37.25493832,\n",
       "       36.37572067, 25.09053445, 27.37231879, 34.19759304, 35.14168433,\n",
       "       39.6000897 , 37.7450523 , 34.34839832, 26.27162952, 39.83946238,\n",
       "       31.35935395, 36.17120874, 32.81940223, 37.81565934, 30.55234475,\n",
       "       33.71868353, 26.05711767, 38.11723329, 31.53503162, 28.10693892])"
      ]
     },
     "execution_count": 85,
     "metadata": {},
     "output_type": "execute_result"
    }
   ],
   "source": [
    "bmi = np.concatenate ((bmi_normal, bmi_obese), axis=None)\n",
    "bmi"
   ]
  },
  {
   "cell_type": "code",
   "execution_count": null,
   "metadata": {},
   "outputs": [],
   "source": []
  },
  {
   "cell_type": "code",
   "execution_count": 86,
   "metadata": {},
   "outputs": [
    {
     "data": {
      "text/plain": [
       "27.04932923796866"
      ]
     },
     "execution_count": 86,
     "metadata": {},
     "output_type": "execute_result"
    }
   ],
   "source": [
    "np.mean(bmi)"
   ]
  },
  {
   "cell_type": "code",
   "execution_count": 87,
   "metadata": {},
   "outputs": [
    {
     "data": {
      "text/plain": [
       "25.020997893895856"
      ]
     },
     "execution_count": 87,
     "metadata": {},
     "output_type": "execute_result"
    }
   ],
   "source": [
    "np.median(bmi)"
   ]
  },
  {
   "cell_type": "code",
   "execution_count": 88,
   "metadata": {},
   "outputs": [
    {
     "data": {
      "image/png": "[encoded data removed]",
      "text/plain": [
       "<Figure size 864x576 with 1 Axes>"
      ]
     },
     "metadata": {},
     "output_type": "display_data"
    }
   ],
   "source": [
    "plt.figure(figsize=(12,8), facecolor='w', edgecolor='k', clear='True')\n",
    "plt.hist(bmi, bins=50)\n",
    "plt.xlabel('rdi')\n",
    "plt.show()"
   ]
  },
  {
   "cell_type": "markdown",
   "metadata": {},
   "source": [
    "BMI is right-skewed.\n",
    "Main peaks of BMI: overweight around 19.5kg and normal around 36kg."
   ]
  },
  {
   "cell_type": "code",
   "execution_count": null,
   "metadata": {},
   "outputs": [],
   "source": []
  },
  {
   "cell_type": "code",
   "execution_count": 89,
   "metadata": {},
   "outputs": [
    {
     "data": {
      "image/png": "[encoded data removed]",
      "text/plain": [
       "<Figure size 432x288 with 1 Axes>"
      ]
     },
     "metadata": {
      "needs_background": "light"
     },
     "output_type": "display_data"
    }
   ],
   "source": [
    "\n",
    "# Boxplot\n",
    "\n",
    "plt.boxplot(bmi, showmeans=True)\n",
    "plt.show()"
   ]
  },
  {
   "cell_type": "code",
   "execution_count": null,
   "metadata": {},
   "outputs": [],
   "source": []
  },
  {
   "cell_type": "code",
   "execution_count": null,
   "metadata": {},
   "outputs": [],
   "source": []
  },
  {
   "cell_type": "code",
   "execution_count": null,
   "metadata": {
    "collapsed": true
   },
   "outputs": [],
   "source": [
    "ALCOHOL"
   ]
  },
  {
   "cell_type": "code",
   "execution_count": null,
   "metadata": {},
   "outputs": [],
   "source": []
  },
  {
   "cell_type": "markdown",
   "metadata": {},
   "source": []
  },
  {
   "cell_type": "code",
   "execution_count": 45,
   "metadata": {},
   "outputs": [],
   "source": [
    "min_alc = 56\n",
    "max_alc = 196"
   ]
  },
  {
   "cell_type": "code",
   "execution_count": 52,
   "metadata": {},
   "outputs": [],
   "source": [
    "alc = np.random.randint(56, 196, 500)"
   ]
  },
  {
   "cell_type": "code",
   "execution_count": 53,
   "metadata": {},
   "outputs": [
    {
     "data": {
      "text/plain": [
       "array([ 76, 111,  58, 139,  76, 175, 132, 112, 124, 165, 117,  75, 169,\n",
       "       142, 160,  86, 130, 150, 154, 157, 179, 139, 170, 138, 195, 194,\n",
       "        59, 140, 153, 192, 172, 171, 125, 156, 160, 111, 142,  86, 161,\n",
       "       163, 167, 115, 142, 149,  57, 166, 163, 165, 145,  59, 125,  87,\n",
       "        80, 150, 193, 115, 146,  62,  63, 177, 176,  56,  56, 174, 108,\n",
       "       127,  63, 187, 126, 159,  71, 109,  96, 104, 104,  98, 137, 192,\n",
       "       104, 191, 111, 171,  77,  79, 109, 122, 195,  77,  88, 116, 167,\n",
       "        92,  95,  75,  94, 148, 160, 161, 113, 129, 168, 115, 124, 185,\n",
       "       140, 131, 129, 194,  76, 183, 103,  90, 150,  84, 171, 183, 194,\n",
       "       105, 123, 137, 156, 107,  57,  66, 179, 112, 127,  73,  66,  68,\n",
       "        86, 163, 194, 175, 158, 191, 142,  99,  88, 151, 116, 126,  66,\n",
       "       114, 163, 134, 171, 194, 184, 159, 155, 120,  58, 175,  65,  91,\n",
       "       142, 144, 118, 162, 113,  95, 184, 141, 111,  98, 142,  66, 181,\n",
       "       151, 130, 128, 135, 112, 162, 138, 159, 189, 178, 112,  92, 184,\n",
       "       144, 184,  92,  76, 185, 161, 151, 167, 172, 102, 140, 116,  62,\n",
       "       174,  74, 171,  93, 151, 127, 120, 117,  61, 164, 191,  99,  65,\n",
       "       125, 186, 104, 127, 122, 138,  69, 101, 119,  85,  67, 165, 120,\n",
       "       176, 136, 157, 192,  87,  78, 104, 112, 165,  94, 130, 117, 176,\n",
       "        92,  63, 150, 147, 132, 166, 152, 108, 106,  62,  57, 139,  97,\n",
       "       152, 192, 157, 176, 101, 192, 187, 152, 136, 158, 130,  90,  85,\n",
       "       145, 192, 177, 194, 130, 130,  66, 115,  56,  58, 136, 136, 180,\n",
       "       128, 115, 190, 120, 159, 191, 185, 107, 187, 145, 120, 193, 122,\n",
       "       165,  83,  85,  75, 123, 116, 115,  62, 107, 142, 150,  93, 136,\n",
       "       182,  74, 145,  78, 104,  60, 129, 131,  83, 158,  56, 120, 107,\n",
       "        61,  76,  86, 177, 145, 102, 194, 137, 116, 158, 194, 135, 106,\n",
       "        91, 148, 157, 172, 170, 128, 189, 141,  74, 152,  97,  75,  60,\n",
       "       143, 193, 143, 129,  77, 106, 106,  89,  87,  99, 163,  83,  88,\n",
       "       159, 137, 143, 104,  85,  62,  95, 116, 133,  67,  63, 171,  94,\n",
       "        97,  89,  79, 132, 131, 121, 142, 161, 178,  62, 135, 172, 105,\n",
       "       180, 147, 134, 165, 122,  76,  67,  60, 130, 153,  88,  96,  65,\n",
       "        94,  81, 117,  87, 145, 147, 182, 189, 158, 138,  56,  89, 169,\n",
       "        76,  81, 131, 120, 170, 136, 131, 183, 164,  70, 152, 183, 136,\n",
       "       195, 121, 175, 179, 182, 171, 156,  57, 139,  75, 112, 166, 179,\n",
       "       107,  84,  99, 171,  90, 110, 149, 144, 163,  78, 117, 101,  63,\n",
       "       160,  82, 111,  70, 109, 164,  58,  94, 181, 179, 195,  69, 194,\n",
       "        64,  57, 143, 167,  65,  67,  75, 128,  78, 189, 115,  78, 102,\n",
       "       107, 156,  57,  62, 155, 122,  89,  78, 146, 164, 182, 112,  85,\n",
       "        66, 148,  76, 194, 100,  76,  94, 107, 143, 110, 128, 160, 133,\n",
       "       106, 134, 125,  72, 149,  88])"
      ]
     },
     "execution_count": 53,
     "metadata": {},
     "output_type": "execute_result"
    }
   ],
   "source": [
    "alc"
   ]
  },
  {
   "cell_type": "code",
   "execution_count": null,
   "metadata": {},
   "outputs": [],
   "source": []
  },
  {
   "cell_type": "code",
   "execution_count": 55,
   "metadata": {},
   "outputs": [
    {
     "data": {
      "text/plain": [
       "126.306"
      ]
     },
     "execution_count": 55,
     "metadata": {},
     "output_type": "execute_result"
    }
   ],
   "source": [
    "np.mean (alc)"
   ]
  },
  {
   "cell_type": "code",
   "execution_count": 79,
   "metadata": {},
   "outputs": [
    {
     "data": {
      "text/plain": [
       "128.0"
      ]
     },
     "execution_count": 79,
     "metadata": {},
     "output_type": "execute_result"
    }
   ],
   "source": [
    "np.median(alc)"
   ]
  },
  {
   "cell_type": "code",
   "execution_count": 90,
   "metadata": {},
   "outputs": [
    {
     "data": {
      "image/png": "[encoded data removed]",
      "text/plain": [
       "<Figure size 864x576 with 1 Axes>"
      ]
     },
     "metadata": {},
     "output_type": "display_data"
    }
   ],
   "source": [
    "plt.figure(figsize=(12,8), facecolor='w', edgecolor='k', clear='True')\n",
    "plt.hist(alc, bins=100)\n",
    "plt.xlabel('alc')\n",
    "plt.show()"
   ]
  },
  {
   "cell_type": "code",
   "execution_count": null,
   "metadata": {},
   "outputs": [],
   "source": []
  },
  {
   "cell_type": "code",
   "execution_count": null,
   "metadata": {},
   "outputs": [],
   "source": []
  },
  {
   "cell_type": "code",
   "execution_count": null,
   "metadata": {},
   "outputs": [],
   "source": []
  },
  {
   "cell_type": "code",
   "execution_count": null,
   "metadata": {},
   "outputs": [],
   "source": []
  },
  {
   "cell_type": "code",
   "execution_count": null,
   "metadata": {},
   "outputs": [],
   "source": []
  },
  {
   "cell_type": "code",
   "execution_count": null,
   "metadata": {},
   "outputs": [],
   "source": []
  },
  {
   "cell_type": "code",
   "execution_count": null,
   "metadata": {},
   "outputs": [],
   "source": []
  },
  {
   "cell_type": "code",
   "execution_count": null,
   "metadata": {},
   "outputs": [],
   "source": []
  },
  {
   "cell_type": "code",
   "execution_count": null,
   "metadata": {},
   "outputs": [],
   "source": []
  },
  {
   "cell_type": "code",
   "execution_count": null,
   "metadata": {},
   "outputs": [],
   "source": []
  }
 ],
 "metadata": {
  "kernelspec": {
   "display_name": "Python 3",
   "language": "python",
   "name": "python3"
  },
  "language_info": {
   "codemirror_mode": {
    "name": "ipython",
    "version": 3
   },
   "file_extension": ".py",
   "mimetype": "text/x-python",
   "name": "python",
   "nbconvert_exporter": "python",
   "pygments_lexer": "ipython3",
   "version": "3.7.3"
  }
 },
 "nbformat": 4,
 "nbformat_minor": 2
}
